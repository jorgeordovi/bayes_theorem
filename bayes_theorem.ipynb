{
 "cells": [
  {
   "cell_type": "code",
   "execution_count": 1,
   "metadata": {},
   "outputs": [],
   "source": [
    "import numpy as numpy\n",
    "import sympy as sp"
   ]
  },
  {
   "cell_type": "markdown",
   "metadata": {},
   "source": [
    " $$\\huge P(A|B) = \\frac{P(A \\cap B)}{P(B)} $$"
   ]
  },
  {
   "cell_type": "markdown",
   "metadata": {},
   "source": [
    "There be A & B events where B has strict positive probability. The conditional probability of A given B denotes $ P(A|B)$ - Reads \" The probability of A given B"
   ]
  },
  {
   "cell_type": "markdown",
   "metadata": {},
   "source": [
    "$$ \\large P(A) = \\sum^n_{i=1} P(A|(B_i))*P(B_i)"
   ]
  },
  {
   "cell_type": "markdown",
   "metadata": {},
   "source": [
    "When the partition of sample space denotes only elements B y Bc, the formula of the probability theorem is reduced to the expression"
   ]
  },
  {
   "cell_type": "markdown",
   "metadata": {},
   "source": [
    "$$ P(A) = P(A|B).P(B)+P(A|B^c).P(B"
   ]
  },
  {
   "cell_type": "markdown",
   "metadata": {},
   "source": [
    "Event independance between events is qeuivalent to the ocurrence situation of an event does NOT affect the probability of the occurence of an event\n",
    "\n",
    "so we say A y B are independendet if equality is achieved"
   ]
  },
  {
   "cell_type": "markdown",
   "metadata": {},
   "source": [
    "$$ \\large P(A \\cap B) = P(A).P(B)"
   ]
  },
  {
   "cell_type": "markdown",
   "metadata": {},
   "source": [
    "Independence of Events\n",
    "\n",
    "ej, Flip a coin\n",
    "\n",
    "A: A Face of the coin \n",
    "B: Obtain a pair number from the flip"
   ]
  },
  {
   "cell_type": "markdown",
   "metadata": {},
   "source": [
    "$$ \\large P(A)=\\frac{1}{2}"
   ]
  },
  {
   "cell_type": "markdown",
   "metadata": {},
   "source": [
    "$$ \\large P(B)= \\frac{3}{6} = \\frac{1}{2}"
   ]
  },
  {
   "cell_type": "markdown",
   "metadata": {},
   "source": [
    "$$ \\large P(A \\cap B) = P(A).P(B) = \\frac{1}{2}-\\frac{1}{2}=\\frac{1}{4}= 0.25"
   ]
  },
  {
   "cell_type": "markdown",
   "metadata": {},
   "source": [
    "### RULE FOR CHAIN EVENTS"
   ]
  },
  {
   "cell_type": "markdown",
   "metadata": {},
   "source": [
    "Chain rule for two random events A y B.\n"
   ]
  },
  {
   "cell_type": "markdown",
   "metadata": {},
   "source": [
    "$$ P(A \\cap B) = P(B|A) . P(A)"
   ]
  },
  {
   "cell_type": "markdown",
   "metadata": {},
   "source": [
    "For more than two events A1,....,An:"
   ]
  },
  {
   "cell_type": "markdown",
   "metadata": {},
   "source": [
    "$$ P(A_n \\cap ... \\cap A_1) = P(A_n|A{_{n_-1}} \\cap ... \\cap A_1). P({A_{n_-1}} \\cap ... \\cap A_1)"
   ]
  },
  {
   "cell_type": "markdown",
   "metadata": {},
   "source": [
    "Transforms in:"
   ]
  },
  {
   "cell_type": "markdown",
   "metadata": {},
   "source": [
    "$$ P(A_n \\cap ... \\cap A_1) = \\prod^n_{k=_1} P(A_k | \\cap^{k-1}_{j=1}) A_j"
   ]
  },
  {
   "cell_type": "markdown",
   "metadata": {},
   "source": [
    "Given $ B_1 , ... , B_n $ A partition $\\omega$ thefore $P(B_i) \\neq 0, i01, ...,n$"
   ]
  },
  {
   "cell_type": "markdown",
   "metadata": {},
   "source": [
    "Then A and event so $P(A)\\neq0$"
   ]
  },
  {
   "cell_type": "markdown",
   "metadata": {},
   "source": [
    "$$ P(B_j|A) = \\frac{P(\\textrm{a }| \\textrm{ b}_j)\\times P(\\textrm{b}_j)}{P(\\textrm{a})}"
   ]
  },
  {
   "cell_type": "markdown",
   "metadata": {},
   "source": [
    "$$ P(B_j|A) = \\frac{P(\\textrm{A }| \\textrm{ B}_j)\\times P(\\textrm{B}_j)}{\\sum^n_{i=1} P(\\textrm{A}|{B})\\times P({B_i})}"
   ]
  },
  {
   "cell_type": "markdown",
   "metadata": {},
   "source": []
  }
 ],
 "metadata": {
  "kernelspec": {
   "display_name": "Python 3 (ipykernel)",
   "language": "python",
   "name": "python3"
  }
 },
 "nbformat": 4,
 "nbformat_minor": 2
}
